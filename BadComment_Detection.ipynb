{
 "cells": [
  {
   "cell_type": "code",
   "execution_count": 1,
   "metadata": {},
   "outputs": [],
   "source": [
    "import pandas as pd\n",
    "from konlpy.tag import Okt\n",
    "import json\n",
    "import os\n",
    "from pprint import pprint"
   ]
  },
  {
   "cell_type": "code",
   "execution_count": 2,
   "metadata": {},
   "outputs": [],
   "source": [
    "\n",
    "def read_data(filename):\n",
    "    \"\"\"\n",
    "    data 읽어서 한 문장 단위+Tab 단위로 쪼개기 위함\n",
    "    \"\"\"\n",
    "    \n",
    "    with open(filename,'r') as f:\n",
    "        #한 줄당 list안에 넣고 list안에 tab별로 순서대로 넣기\n",
    "        #['idx','comment','label']\n",
    "        data=[line.split('\\t')for line in f.read().splitlines()]\n",
    "        #헤더 제외하고 넣기 \n",
    "        data=data[1:]\n",
    "    return data\n"
   ]
  },
  {
   "cell_type": "code",
   "execution_count": 3,
   "metadata": {},
   "outputs": [
    {
     "name": "stdout",
     "output_type": "stream",
     "text": [
      "['9976970', '아 더빙.. 진짜 짜증나네요 목소리', '0']\n"
     ]
    }
   ],
   "source": [
    "train_data=read_data(\"./nsmc/ratings_train.txt\")\n",
    "test_data=read_data(\"./nsmc/ratings_test.txt\")\n",
    "print(train_data[0])"
   ]
  },
  {
   "cell_type": "code",
   "execution_count": 4,
   "metadata": {},
   "outputs": [
    {
     "name": "stdout",
     "output_type": "stream",
     "text": [
      "[['아/Exclamation', '더빙/Noun', '../Punctuation', '진짜/Noun', '짜증나다/Adjective', '목소리/Noun'], '0']\n"
     ]
    }
   ],
   "source": [
    "def tokenize(doc):\n",
    "    \"\"\"\n",
    "    data에 있는 문장을 단어별로 자르고 태깅하기 위함\n",
    "    '단어/품사'로 저장\n",
    "    \"\"\"\n",
    "    okt=Okt()\n",
    "    return ['/'.join(t) for t in okt.pos(doc,norm=True,stem=True)]\n",
    "\n",
    "def get_json(train_data, test_data):\n",
    "    \"\"\"\n",
    "    list에 저장된 데이터를 json 파일로 변경\n",
    "    \"\"\"\n",
    "    if os.path.isfile('./nsmc/train_docs.json'):\n",
    "        with open('./nsmc/train_docs.json') as f:\n",
    "            train_docs=json.load(f)\n",
    "        with open('./nsmc/test_docs.json') as f:\n",
    "            test_docs=json.load(f)\n",
    "    else:\n",
    "        #data에 있는 단어들에서 [['comment'],'label']로 구성\n",
    "        train_docs=[(tokenize(row[1]),row[2]) for row in train_data]\n",
    "        test_docs=[(tokenize(row[1]),row[2]) for row in test_data]\n",
    "        \n",
    "        with open('./nsmc/train_docs.json','w',encoding='utf-8') as make_file:\n",
    "            json.dump(train_docs,make_file,ensure_ascii=False, indent=\"\\t\")\n",
    "            \n",
    "        with open('./nsmc/test_docs.json','w',encoding='utf-8') as make_file:\n",
    "            json.dump(test_docs,make_file,ensure_ascii=False, indent=\"\\t\")\n",
    "    \n",
    "    return train_docs, test_docs\n",
    "        \n",
    "train_docs, test_docs=get_json(train_data, test_data)\n",
    "print(train_docs[0])"
   ]
  },
  {
   "cell_type": "code",
   "execution_count": 5,
   "metadata": {},
   "outputs": [
    {
     "name": "stdout",
     "output_type": "stream",
     "text": [
      "[['아/Exclamation',\n",
      "  '더빙/Noun',\n",
      "  '../Punctuation',\n",
      "  '진짜/Noun',\n",
      "  '짜증나다/Adjective',\n",
      "  '목소리/Noun'],\n",
      " '0']\n"
     ]
    }
   ],
   "source": [
    "pprint(train_docs[0])"
   ]
  },
  {
   "cell_type": "code",
   "execution_count": 6,
   "metadata": {},
   "outputs": [
    {
     "name": "stdout",
     "output_type": "stream",
     "text": [
      "전체 토큰 개수:  2159921\n",
      "중복 제외 토큰 개수:  49895\n"
     ]
    },
    {
     "name": "stderr",
     "output_type": "stream",
     "text": [
      "/Users/jihyun/opt/anaconda3/envs/tensorflow/lib/python3.8/site-packages/matplotlib/backends/backend_agg.py:214: RuntimeWarning: Glyph 50689 missing from current font.\n",
      "  font.set_text(s, 0.0, flags=flags)\n",
      "/Users/jihyun/opt/anaconda3/envs/tensorflow/lib/python3.8/site-packages/matplotlib/backends/backend_agg.py:214: RuntimeWarning: Glyph 54868 missing from current font.\n",
      "  font.set_text(s, 0.0, flags=flags)\n",
      "/Users/jihyun/opt/anaconda3/envs/tensorflow/lib/python3.8/site-packages/matplotlib/backends/backend_agg.py:214: RuntimeWarning: Glyph 54616 missing from current font.\n",
      "  font.set_text(s, 0.0, flags=flags)\n",
      "/Users/jihyun/opt/anaconda3/envs/tensorflow/lib/python3.8/site-packages/matplotlib/backends/backend_agg.py:214: RuntimeWarning: Glyph 45796 missing from current font.\n",
      "  font.set_text(s, 0.0, flags=flags)\n",
      "/Users/jihyun/opt/anaconda3/envs/tensorflow/lib/python3.8/site-packages/matplotlib/backends/backend_agg.py:214: RuntimeWarning: Glyph 51060 missing from current font.\n",
      "  font.set_text(s, 0.0, flags=flags)\n",
      "/Users/jihyun/opt/anaconda3/envs/tensorflow/lib/python3.8/site-packages/matplotlib/backends/backend_agg.py:214: RuntimeWarning: Glyph 48372 missing from current font.\n",
      "  font.set_text(s, 0.0, flags=flags)\n",
      "/Users/jihyun/opt/anaconda3/envs/tensorflow/lib/python3.8/site-packages/matplotlib/backends/backend_agg.py:214: RuntimeWarning: Glyph 51032 missing from current font.\n",
      "  font.set_text(s, 0.0, flags=flags)\n",
      "/Users/jihyun/opt/anaconda3/envs/tensorflow/lib/python3.8/site-packages/matplotlib/backends/backend_agg.py:214: RuntimeWarning: Glyph 44032 missing from current font.\n",
      "  font.set_text(s, 0.0, flags=flags)\n",
      "/Users/jihyun/opt/anaconda3/envs/tensorflow/lib/python3.8/site-packages/matplotlib/backends/backend_agg.py:214: RuntimeWarning: Glyph 50640 missing from current font.\n",
      "  font.set_text(s, 0.0, flags=flags)\n",
      "/Users/jihyun/opt/anaconda3/envs/tensorflow/lib/python3.8/site-packages/matplotlib/backends/backend_agg.py:214: RuntimeWarning: Glyph 51012 missing from current font.\n",
      "  font.set_text(s, 0.0, flags=flags)\n",
      "/Users/jihyun/opt/anaconda3/envs/tensorflow/lib/python3.8/site-packages/matplotlib/backends/backend_agg.py:214: RuntimeWarning: Glyph 46020 missing from current font.\n",
      "  font.set_text(s, 0.0, flags=flags)\n",
      "/Users/jihyun/opt/anaconda3/envs/tensorflow/lib/python3.8/site-packages/matplotlib/backends/backend_agg.py:214: RuntimeWarning: Glyph 51008 missing from current font.\n",
      "  font.set_text(s, 0.0, flags=flags)\n",
      "/Users/jihyun/opt/anaconda3/envs/tensorflow/lib/python3.8/site-packages/matplotlib/backends/backend_agg.py:214: RuntimeWarning: Glyph 46308 missing from current font.\n",
      "  font.set_text(s, 0.0, flags=flags)\n",
      "/Users/jihyun/opt/anaconda3/envs/tensorflow/lib/python3.8/site-packages/matplotlib/backends/backend_agg.py:214: RuntimeWarning: Glyph 45716 missing from current font.\n",
      "  font.set_text(s, 0.0, flags=flags)\n",
      "/Users/jihyun/opt/anaconda3/envs/tensorflow/lib/python3.8/site-packages/matplotlib/backends/backend_agg.py:214: RuntimeWarning: Glyph 50630 missing from current font.\n",
      "  font.set_text(s, 0.0, flags=flags)\n",
      "/Users/jihyun/opt/anaconda3/envs/tensorflow/lib/python3.8/site-packages/matplotlib/backends/backend_agg.py:214: RuntimeWarning: Glyph 47484 missing from current font.\n",
      "  font.set_text(s, 0.0, flags=flags)\n",
      "/Users/jihyun/opt/anaconda3/envs/tensorflow/lib/python3.8/site-packages/matplotlib/backends/backend_agg.py:214: RuntimeWarning: Glyph 51080 missing from current font.\n",
      "  font.set_text(s, 0.0, flags=flags)\n",
      "/Users/jihyun/opt/anaconda3/envs/tensorflow/lib/python3.8/site-packages/matplotlib/backends/backend_agg.py:214: RuntimeWarning: Glyph 51339 missing from current font.\n",
      "  font.set_text(s, 0.0, flags=flags)\n",
      "/Users/jihyun/opt/anaconda3/envs/tensorflow/lib/python3.8/site-packages/matplotlib/backends/backend_agg.py:214: RuntimeWarning: Glyph 45320 missing from current font.\n",
      "  font.set_text(s, 0.0, flags=flags)\n",
      "/Users/jihyun/opt/anaconda3/envs/tensorflow/lib/python3.8/site-packages/matplotlib/backends/backend_agg.py:214: RuntimeWarning: Glyph 47924 missing from current font.\n",
      "  font.set_text(s, 0.0, flags=flags)\n",
      "/Users/jihyun/opt/anaconda3/envs/tensorflow/lib/python3.8/site-packages/matplotlib/backends/backend_agg.py:214: RuntimeWarning: Glyph 51116 missing from current font.\n",
      "  font.set_text(s, 0.0, flags=flags)\n",
      "/Users/jihyun/opt/anaconda3/envs/tensorflow/lib/python3.8/site-packages/matplotlib/backends/backend_agg.py:214: RuntimeWarning: Glyph 48140 missing from current font.\n",
      "  font.set_text(s, 0.0, flags=flags)\n",
      "/Users/jihyun/opt/anaconda3/envs/tensorflow/lib/python3.8/site-packages/matplotlib/backends/backend_agg.py:214: RuntimeWarning: Glyph 51221 missing from current font.\n",
      "  font.set_text(s, 0.0, flags=flags)\n",
      "/Users/jihyun/opt/anaconda3/envs/tensorflow/lib/python3.8/site-packages/matplotlib/backends/backend_agg.py:214: RuntimeWarning: Glyph 47568 missing from current font.\n",
      "  font.set_text(s, 0.0, flags=flags)\n",
      "/Users/jihyun/opt/anaconda3/envs/tensorflow/lib/python3.8/site-packages/matplotlib/backends/backend_agg.py:214: RuntimeWarning: Glyph 44163 missing from current font.\n",
      "  font.set_text(s, 0.0, flags=flags)\n",
      "/Users/jihyun/opt/anaconda3/envs/tensorflow/lib/python3.8/site-packages/matplotlib/backends/backend_agg.py:214: RuntimeWarning: Glyph 46104 missing from current font.\n",
      "  font.set_text(s, 0.0, flags=flags)\n",
      "/Users/jihyun/opt/anaconda3/envs/tensorflow/lib/python3.8/site-packages/matplotlib/backends/backend_agg.py:214: RuntimeWarning: Glyph 51652 missing from current font.\n",
      "  font.set_text(s, 0.0, flags=flags)\n",
      "/Users/jihyun/opt/anaconda3/envs/tensorflow/lib/python3.8/site-packages/matplotlib/backends/backend_agg.py:214: RuntimeWarning: Glyph 51676 missing from current font.\n",
      "  font.set_text(s, 0.0, flags=flags)\n",
      "/Users/jihyun/opt/anaconda3/envs/tensorflow/lib/python3.8/site-packages/matplotlib/backends/backend_agg.py:214: RuntimeWarning: Glyph 44057 missing from current font.\n",
      "  font.set_text(s, 0.0, flags=flags)\n",
      "/Users/jihyun/opt/anaconda3/envs/tensorflow/lib/python3.8/site-packages/matplotlib/backends/backend_agg.py:214: RuntimeWarning: Glyph 51201 missing from current font.\n",
      "  font.set_text(s, 0.0, flags=flags)\n",
      "/Users/jihyun/opt/anaconda3/envs/tensorflow/lib/python3.8/site-packages/matplotlib/backends/backend_agg.py:214: RuntimeWarning: Glyph 51004 missing from current font.\n",
      "  font.set_text(s, 0.0, flags=flags)\n",
      "/Users/jihyun/opt/anaconda3/envs/tensorflow/lib/python3.8/site-packages/matplotlib/backends/backend_agg.py:214: RuntimeWarning: Glyph 47196 missing from current font.\n",
      "  font.set_text(s, 0.0, flags=flags)\n",
      "/Users/jihyun/opt/anaconda3/envs/tensorflow/lib/python3.8/site-packages/matplotlib/backends/backend_agg.py:214: RuntimeWarning: Glyph 51216 missing from current font.\n",
      "  font.set_text(s, 0.0, flags=flags)\n",
      "/Users/jihyun/opt/anaconda3/envs/tensorflow/lib/python3.8/site-packages/matplotlib/backends/backend_agg.py:214: RuntimeWarning: Glyph 50500 missing from current font.\n",
      "  font.set_text(s, 0.0, flags=flags)\n",
      "/Users/jihyun/opt/anaconda3/envs/tensorflow/lib/python3.8/site-packages/matplotlib/backends/backend_agg.py:214: RuntimeWarning: Glyph 45768 missing from current font.\n",
      "  font.set_text(s, 0.0, flags=flags)\n",
      "/Users/jihyun/opt/anaconda3/envs/tensorflow/lib/python3.8/site-packages/matplotlib/backends/backend_agg.py:214: RuntimeWarning: Glyph 50506 missing from current font.\n",
      "  font.set_text(s, 0.0, flags=flags)\n",
      "/Users/jihyun/opt/anaconda3/envs/tensorflow/lib/python3.8/site-packages/matplotlib/backends/backend_agg.py:214: RuntimeWarning: Glyph 49436 missing from current font.\n",
      "  font.set_text(s, 0.0, flags=flags)\n",
      "/Users/jihyun/opt/anaconda3/envs/tensorflow/lib/python3.8/site-packages/matplotlib/backends/backend_agg.py:214: RuntimeWarning: Glyph 47564 missing from current font.\n",
      "  font.set_text(s, 0.0, flags=flags)\n",
      "/Users/jihyun/opt/anaconda3/envs/tensorflow/lib/python3.8/site-packages/matplotlib/backends/backend_agg.py:214: RuntimeWarning: Glyph 50672 missing from current font.\n",
      "  font.set_text(s, 0.0, flags=flags)\n",
      "/Users/jihyun/opt/anaconda3/envs/tensorflow/lib/python3.8/site-packages/matplotlib/backends/backend_agg.py:214: RuntimeWarning: Glyph 44592 missing from current font.\n",
      "  font.set_text(s, 0.0, flags=flags)\n",
      "/Users/jihyun/opt/anaconda3/envs/tensorflow/lib/python3.8/site-packages/matplotlib/backends/backend_agg.py:214: RuntimeWarning: Glyph 45208 missing from current font.\n",
      "  font.set_text(s, 0.0, flags=flags)\n",
      "/Users/jihyun/opt/anaconda3/envs/tensorflow/lib/python3.8/site-packages/matplotlib/backends/backend_agg.py:214: RuntimeWarning: Glyph 50724 missing from current font.\n",
      "  font.set_text(s, 0.0, flags=flags)\n",
      "/Users/jihyun/opt/anaconda3/envs/tensorflow/lib/python3.8/site-packages/matplotlib/backends/backend_agg.py:214: RuntimeWarning: Glyph 54217 missing from current font.\n",
      "  font.set_text(s, 0.0, flags=flags)\n",
      "/Users/jihyun/opt/anaconda3/envs/tensorflow/lib/python3.8/site-packages/matplotlib/backends/backend_agg.py:214: RuntimeWarning: Glyph 44284 missing from current font.\n",
      "  font.set_text(s, 0.0, flags=flags)\n",
      "/Users/jihyun/opt/anaconda3/envs/tensorflow/lib/python3.8/site-packages/matplotlib/backends/backend_agg.py:214: RuntimeWarning: Glyph 52572 missing from current font.\n",
      "  font.set_text(s, 0.0, flags=flags)\n",
      "/Users/jihyun/opt/anaconda3/envs/tensorflow/lib/python3.8/site-packages/matplotlib/backends/backend_agg.py:214: RuntimeWarning: Glyph 44256 missing from current font.\n",
      "  font.set_text(s, 0.0, flags=flags)\n",
      "/Users/jihyun/opt/anaconda3/envs/tensorflow/lib/python3.8/site-packages/matplotlib/backends/backend_agg.py:214: RuntimeWarning: Glyph 54620 missing from current font.\n",
      "  font.set_text(s, 0.0, flags=flags)\n",
      "/Users/jihyun/opt/anaconda3/envs/tensorflow/lib/python3.8/site-packages/matplotlib/backends/backend_agg.py:214: RuntimeWarning: Glyph 50780 missing from current font.\n",
      "  font.set_text(s, 0.0, flags=flags)\n",
      "/Users/jihyun/opt/anaconda3/envs/tensorflow/lib/python3.8/site-packages/matplotlib/backends/backend_agg.py:214: RuntimeWarning: Glyph 49828 missing from current font.\n",
      "  font.set_text(s, 0.0, flags=flags)\n",
      "/Users/jihyun/opt/anaconda3/envs/tensorflow/lib/python3.8/site-packages/matplotlib/backends/backend_agg.py:214: RuntimeWarning: Glyph 53664 missing from current font.\n",
      "  font.set_text(s, 0.0, flags=flags)\n",
      "/Users/jihyun/opt/anaconda3/envs/tensorflow/lib/python3.8/site-packages/matplotlib/backends/backend_agg.py:214: RuntimeWarning: Glyph 47532 missing from current font.\n",
      "  font.set_text(s, 0.0, flags=flags)\n"
     ]
    },
    {
     "name": "stderr",
     "output_type": "stream",
     "text": [
      "/Users/jihyun/opt/anaconda3/envs/tensorflow/lib/python3.8/site-packages/matplotlib/backends/backend_agg.py:183: RuntimeWarning: Glyph 50689 missing from current font.\n",
      "  font.set_text(s, 0, flags=flags)\n",
      "/Users/jihyun/opt/anaconda3/envs/tensorflow/lib/python3.8/site-packages/matplotlib/backends/backend_agg.py:183: RuntimeWarning: Glyph 54868 missing from current font.\n",
      "  font.set_text(s, 0, flags=flags)\n",
      "/Users/jihyun/opt/anaconda3/envs/tensorflow/lib/python3.8/site-packages/matplotlib/backends/backend_agg.py:183: RuntimeWarning: Glyph 54616 missing from current font.\n",
      "  font.set_text(s, 0, flags=flags)\n",
      "/Users/jihyun/opt/anaconda3/envs/tensorflow/lib/python3.8/site-packages/matplotlib/backends/backend_agg.py:183: RuntimeWarning: Glyph 45796 missing from current font.\n",
      "  font.set_text(s, 0, flags=flags)\n",
      "/Users/jihyun/opt/anaconda3/envs/tensorflow/lib/python3.8/site-packages/matplotlib/backends/backend_agg.py:183: RuntimeWarning: Glyph 51060 missing from current font.\n",
      "  font.set_text(s, 0, flags=flags)\n",
      "/Users/jihyun/opt/anaconda3/envs/tensorflow/lib/python3.8/site-packages/matplotlib/backends/backend_agg.py:183: RuntimeWarning: Glyph 48372 missing from current font.\n",
      "  font.set_text(s, 0, flags=flags)\n",
      "/Users/jihyun/opt/anaconda3/envs/tensorflow/lib/python3.8/site-packages/matplotlib/backends/backend_agg.py:183: RuntimeWarning: Glyph 51032 missing from current font.\n",
      "  font.set_text(s, 0, flags=flags)\n",
      "/Users/jihyun/opt/anaconda3/envs/tensorflow/lib/python3.8/site-packages/matplotlib/backends/backend_agg.py:183: RuntimeWarning: Glyph 44032 missing from current font.\n",
      "  font.set_text(s, 0, flags=flags)\n",
      "/Users/jihyun/opt/anaconda3/envs/tensorflow/lib/python3.8/site-packages/matplotlib/backends/backend_agg.py:183: RuntimeWarning: Glyph 50640 missing from current font.\n",
      "  font.set_text(s, 0, flags=flags)\n",
      "/Users/jihyun/opt/anaconda3/envs/tensorflow/lib/python3.8/site-packages/matplotlib/backends/backend_agg.py:183: RuntimeWarning: Glyph 51012 missing from current font.\n",
      "  font.set_text(s, 0, flags=flags)\n",
      "/Users/jihyun/opt/anaconda3/envs/tensorflow/lib/python3.8/site-packages/matplotlib/backends/backend_agg.py:183: RuntimeWarning: Glyph 46020 missing from current font.\n",
      "  font.set_text(s, 0, flags=flags)\n",
      "/Users/jihyun/opt/anaconda3/envs/tensorflow/lib/python3.8/site-packages/matplotlib/backends/backend_agg.py:183: RuntimeWarning: Glyph 51008 missing from current font.\n",
      "  font.set_text(s, 0, flags=flags)\n",
      "/Users/jihyun/opt/anaconda3/envs/tensorflow/lib/python3.8/site-packages/matplotlib/backends/backend_agg.py:183: RuntimeWarning: Glyph 46308 missing from current font.\n",
      "  font.set_text(s, 0, flags=flags)\n",
      "/Users/jihyun/opt/anaconda3/envs/tensorflow/lib/python3.8/site-packages/matplotlib/backends/backend_agg.py:183: RuntimeWarning: Glyph 45716 missing from current font.\n",
      "  font.set_text(s, 0, flags=flags)\n",
      "/Users/jihyun/opt/anaconda3/envs/tensorflow/lib/python3.8/site-packages/matplotlib/backends/backend_agg.py:183: RuntimeWarning: Glyph 50630 missing from current font.\n",
      "  font.set_text(s, 0, flags=flags)\n",
      "/Users/jihyun/opt/anaconda3/envs/tensorflow/lib/python3.8/site-packages/matplotlib/backends/backend_agg.py:183: RuntimeWarning: Glyph 47484 missing from current font.\n",
      "  font.set_text(s, 0, flags=flags)\n",
      "/Users/jihyun/opt/anaconda3/envs/tensorflow/lib/python3.8/site-packages/matplotlib/backends/backend_agg.py:183: RuntimeWarning: Glyph 51080 missing from current font.\n",
      "  font.set_text(s, 0, flags=flags)\n",
      "/Users/jihyun/opt/anaconda3/envs/tensorflow/lib/python3.8/site-packages/matplotlib/backends/backend_agg.py:183: RuntimeWarning: Glyph 51339 missing from current font.\n",
      "  font.set_text(s, 0, flags=flags)\n",
      "/Users/jihyun/opt/anaconda3/envs/tensorflow/lib/python3.8/site-packages/matplotlib/backends/backend_agg.py:183: RuntimeWarning: Glyph 45320 missing from current font.\n",
      "  font.set_text(s, 0, flags=flags)\n",
      "/Users/jihyun/opt/anaconda3/envs/tensorflow/lib/python3.8/site-packages/matplotlib/backends/backend_agg.py:183: RuntimeWarning: Glyph 47924 missing from current font.\n",
      "  font.set_text(s, 0, flags=flags)\n",
      "/Users/jihyun/opt/anaconda3/envs/tensorflow/lib/python3.8/site-packages/matplotlib/backends/backend_agg.py:183: RuntimeWarning: Glyph 51116 missing from current font.\n",
      "  font.set_text(s, 0, flags=flags)\n",
      "/Users/jihyun/opt/anaconda3/envs/tensorflow/lib/python3.8/site-packages/matplotlib/backends/backend_agg.py:183: RuntimeWarning: Glyph 48140 missing from current font.\n",
      "  font.set_text(s, 0, flags=flags)\n",
      "/Users/jihyun/opt/anaconda3/envs/tensorflow/lib/python3.8/site-packages/matplotlib/backends/backend_agg.py:183: RuntimeWarning: Glyph 51221 missing from current font.\n",
      "  font.set_text(s, 0, flags=flags)\n",
      "/Users/jihyun/opt/anaconda3/envs/tensorflow/lib/python3.8/site-packages/matplotlib/backends/backend_agg.py:183: RuntimeWarning: Glyph 47568 missing from current font.\n",
      "  font.set_text(s, 0, flags=flags)\n",
      "/Users/jihyun/opt/anaconda3/envs/tensorflow/lib/python3.8/site-packages/matplotlib/backends/backend_agg.py:183: RuntimeWarning: Glyph 44163 missing from current font.\n",
      "  font.set_text(s, 0, flags=flags)\n",
      "/Users/jihyun/opt/anaconda3/envs/tensorflow/lib/python3.8/site-packages/matplotlib/backends/backend_agg.py:183: RuntimeWarning: Glyph 46104 missing from current font.\n",
      "  font.set_text(s, 0, flags=flags)\n",
      "/Users/jihyun/opt/anaconda3/envs/tensorflow/lib/python3.8/site-packages/matplotlib/backends/backend_agg.py:183: RuntimeWarning: Glyph 51652 missing from current font.\n",
      "  font.set_text(s, 0, flags=flags)\n",
      "/Users/jihyun/opt/anaconda3/envs/tensorflow/lib/python3.8/site-packages/matplotlib/backends/backend_agg.py:183: RuntimeWarning: Glyph 51676 missing from current font.\n",
      "  font.set_text(s, 0, flags=flags)\n",
      "/Users/jihyun/opt/anaconda3/envs/tensorflow/lib/python3.8/site-packages/matplotlib/backends/backend_agg.py:183: RuntimeWarning: Glyph 44057 missing from current font.\n",
      "  font.set_text(s, 0, flags=flags)\n",
      "/Users/jihyun/opt/anaconda3/envs/tensorflow/lib/python3.8/site-packages/matplotlib/backends/backend_agg.py:183: RuntimeWarning: Glyph 51201 missing from current font.\n",
      "  font.set_text(s, 0, flags=flags)\n",
      "/Users/jihyun/opt/anaconda3/envs/tensorflow/lib/python3.8/site-packages/matplotlib/backends/backend_agg.py:183: RuntimeWarning: Glyph 51004 missing from current font.\n",
      "  font.set_text(s, 0, flags=flags)\n",
      "/Users/jihyun/opt/anaconda3/envs/tensorflow/lib/python3.8/site-packages/matplotlib/backends/backend_agg.py:183: RuntimeWarning: Glyph 47196 missing from current font.\n",
      "  font.set_text(s, 0, flags=flags)\n",
      "/Users/jihyun/opt/anaconda3/envs/tensorflow/lib/python3.8/site-packages/matplotlib/backends/backend_agg.py:183: RuntimeWarning: Glyph 51216 missing from current font.\n",
      "  font.set_text(s, 0, flags=flags)\n",
      "/Users/jihyun/opt/anaconda3/envs/tensorflow/lib/python3.8/site-packages/matplotlib/backends/backend_agg.py:183: RuntimeWarning: Glyph 50500 missing from current font.\n",
      "  font.set_text(s, 0, flags=flags)\n",
      "/Users/jihyun/opt/anaconda3/envs/tensorflow/lib/python3.8/site-packages/matplotlib/backends/backend_agg.py:183: RuntimeWarning: Glyph 45768 missing from current font.\n",
      "  font.set_text(s, 0, flags=flags)\n",
      "/Users/jihyun/opt/anaconda3/envs/tensorflow/lib/python3.8/site-packages/matplotlib/backends/backend_agg.py:183: RuntimeWarning: Glyph 50506 missing from current font.\n",
      "  font.set_text(s, 0, flags=flags)\n",
      "/Users/jihyun/opt/anaconda3/envs/tensorflow/lib/python3.8/site-packages/matplotlib/backends/backend_agg.py:183: RuntimeWarning: Glyph 49436 missing from current font.\n",
      "  font.set_text(s, 0, flags=flags)\n",
      "/Users/jihyun/opt/anaconda3/envs/tensorflow/lib/python3.8/site-packages/matplotlib/backends/backend_agg.py:183: RuntimeWarning: Glyph 47564 missing from current font.\n",
      "  font.set_text(s, 0, flags=flags)\n",
      "/Users/jihyun/opt/anaconda3/envs/tensorflow/lib/python3.8/site-packages/matplotlib/backends/backend_agg.py:183: RuntimeWarning: Glyph 50672 missing from current font.\n",
      "  font.set_text(s, 0, flags=flags)\n",
      "/Users/jihyun/opt/anaconda3/envs/tensorflow/lib/python3.8/site-packages/matplotlib/backends/backend_agg.py:183: RuntimeWarning: Glyph 44592 missing from current font.\n",
      "  font.set_text(s, 0, flags=flags)\n",
      "/Users/jihyun/opt/anaconda3/envs/tensorflow/lib/python3.8/site-packages/matplotlib/backends/backend_agg.py:183: RuntimeWarning: Glyph 45208 missing from current font.\n",
      "  font.set_text(s, 0, flags=flags)\n",
      "/Users/jihyun/opt/anaconda3/envs/tensorflow/lib/python3.8/site-packages/matplotlib/backends/backend_agg.py:183: RuntimeWarning: Glyph 50724 missing from current font.\n",
      "  font.set_text(s, 0, flags=flags)\n",
      "/Users/jihyun/opt/anaconda3/envs/tensorflow/lib/python3.8/site-packages/matplotlib/backends/backend_agg.py:183: RuntimeWarning: Glyph 54217 missing from current font.\n",
      "  font.set_text(s, 0, flags=flags)\n",
      "/Users/jihyun/opt/anaconda3/envs/tensorflow/lib/python3.8/site-packages/matplotlib/backends/backend_agg.py:183: RuntimeWarning: Glyph 44284 missing from current font.\n",
      "  font.set_text(s, 0, flags=flags)\n",
      "/Users/jihyun/opt/anaconda3/envs/tensorflow/lib/python3.8/site-packages/matplotlib/backends/backend_agg.py:183: RuntimeWarning: Glyph 52572 missing from current font.\n",
      "  font.set_text(s, 0, flags=flags)\n",
      "/Users/jihyun/opt/anaconda3/envs/tensorflow/lib/python3.8/site-packages/matplotlib/backends/backend_agg.py:183: RuntimeWarning: Glyph 44256 missing from current font.\n",
      "  font.set_text(s, 0, flags=flags)\n",
      "/Users/jihyun/opt/anaconda3/envs/tensorflow/lib/python3.8/site-packages/matplotlib/backends/backend_agg.py:183: RuntimeWarning: Glyph 54620 missing from current font.\n",
      "  font.set_text(s, 0, flags=flags)\n",
      "/Users/jihyun/opt/anaconda3/envs/tensorflow/lib/python3.8/site-packages/matplotlib/backends/backend_agg.py:183: RuntimeWarning: Glyph 50780 missing from current font.\n",
      "  font.set_text(s, 0, flags=flags)\n",
      "/Users/jihyun/opt/anaconda3/envs/tensorflow/lib/python3.8/site-packages/matplotlib/backends/backend_agg.py:183: RuntimeWarning: Glyph 49828 missing from current font.\n",
      "  font.set_text(s, 0, flags=flags)\n",
      "/Users/jihyun/opt/anaconda3/envs/tensorflow/lib/python3.8/site-packages/matplotlib/backends/backend_agg.py:183: RuntimeWarning: Glyph 53664 missing from current font.\n",
      "  font.set_text(s, 0, flags=flags)\n",
      "/Users/jihyun/opt/anaconda3/envs/tensorflow/lib/python3.8/site-packages/matplotlib/backends/backend_agg.py:183: RuntimeWarning: Glyph 47532 missing from current font.\n",
      "  font.set_text(s, 0, flags=flags)\n"
     ]
    },
    {
     "data": {
      "image/png": "[encoded data removed]",
      "text/plain": [
       "<Figure size 1440x720 with 1 Axes>"
      ]
     },
     "metadata": {
      "needs_background": "light"
     },
     "output_type": "display_data"
    }
   ],
   "source": [
    "import nltk\n",
    "import matplotlib.pyplot as plt\n",
    "from matplotlib import font_manager, rc\n",
    "%matplotlib inline\n",
    "\n",
    "def check_Top_Frequency(train_docs):\n",
    "    tokens=[t for d in train_docs for t in d[0]]\n",
    "    text=nltk.Text(tokens,name='NMSC')\n",
    "    \n",
    "    print(\"전체 토큰 개수: \", len(tokens))\n",
    "    print(\"중복 제외 토큰 개수: \", len(set(text.tokens)))\n",
    "\n",
    "    plt.figure(figsize=(20,10))\n",
    "    text.plot(50)\n",
    "    \n",
    "    return text\n",
    "    \n",
    "text=check_Top_Frequency(train_docs)"
   ]
  },
  {
   "cell_type": "code",
   "execution_count": 7,
   "metadata": {},
   "outputs": [],
   "source": [
    "#자주 사용되는 토큰 10000개를 사용하여 데이터 벡터화 \n",
    "#CountVectorization사용하여 벡터화 진행\n",
    "selected_words = [f[0] for f in text.vocab().most_common(10000)]"
   ]
  },
  {
   "cell_type": "code",
   "execution_count": null,
   "metadata": {},
   "outputs": [],
   "source": [
    "import numpy as np\n",
    "\n",
    "def term_frequency(doc):\n",
    "    return [doc.count(word) for word in selected_words]\n",
    "\n",
    "def preprocessing():\n",
    "    train_x=[term_frequency(d) for d,_ in train_docs]\n",
    "    test_x=[term_frequency(d) for d,_ in test_docs]\n",
    "    train_y=[ c for _, c in train_docs]\n",
    "    test_y=[ c for _, c in test_docs]\n",
    "    \n",
    "    x_train = np.asarray(train_x).astype('float32')\n",
    "    x_test = np.asarray(test_x).astype('float32')\n",
    "\n",
    "    y_train = np.asarray(train_y).astype('float32')\n",
    "    y_test = np.asarray(test_y).astype('float32')\n",
    "    \n",
    "    return x_train,x_test, y_train,y_test\n",
    "\n",
    "x_train,x_test, y_train,y_test=preprocessing()"
   ]
  },
  {
   "cell_type": "code",
   "execution_count": null,
   "metadata": {},
   "outputs": [],
   "source": [
    "from tensorflow.keras import models\n",
    "from tensorflow.keras import layers\n",
    "from tensorflow.keras import optimizers\n",
    "from tensorflow.keras import losses\n",
    "from tensorflow.keras import metrics\n",
    "\n",
    "def train():\n",
    "    inputs=Input(shape=(256,10000,))\n",
    "    lstm1=layers.LSTM(256,return_sequences=True, return_state=True ,dropout = 0.4, recurrent_dropout = 0.4)\n",
    "    lstm1_output,state_h1,state_c1=lstm1(inputs)\n",
    "    \n",
    "    lstm2=layers.LSTM(256,return_sequences=True, return_state=True ,dropout = 0.4, recurrent_dropout = 0.4)\n",
    "    lstm2_output,state_h2,state_c2=lstm2(lstm1_output)\n",
    "    \n",
    "    lstm3=layers.LSTM(256,return_sequences=True, return_state=True ,dropout = 0.4, recurrent_dropout = 0.4)\n",
    "    lstm3_output,state_h3,state_c3=lstm3(lstm2_output)\n",
    "    \n",
    "    lstm4=layers.LSTM(256,return_sequences=True, return_state=True ,dropout = 0.4, recurrent_dropout = 0.4)\n",
    "    lstm4_output,state_h4,state_c4=lstm4(lstm3_output)\n",
    "    \n",
    "    fcn=layers.Dense(1,activation='sigmoid')\n",
    "    outputs=fcn(lstm4_output)\n",
    "    \n",
    "    model=Model([inputs],outputs)\n",
    "    model.summary()\n",
    "    \n",
    "\n",
    "    model.compile(optimizer=optimizers.RMSprop(lr=0.001),\n",
    "                 loss=losses.binary_crossentropy,\n",
    "                 metrics=[metrics.binary_accuracy])\n",
    "    \n",
    "    x=np.reshape(x_train,(-1,1,10000))\n",
    "    y=np.reshape(y_train,(-1,1))\n",
    "    print(x.shape)\n",
    "    hist=model.fit(x, y, epochs=100, batch_size=512).history\n",
    "    x_t=np.reshape(x_test,(-1,1,10000))\n",
    "    y_t=np.reshape(y_test,(-1,1))\n",
    "    results = model.evaluate(x_t, y_t)\n",
    "    \n",
    "    print(results)\n",
    "    return hist,model\n",
    "\n",
    "hist,model=train()"
   ]
  },
  {
   "cell_type": "code",
   "execution_count": 141,
   "metadata": {},
   "outputs": [
    {
     "name": "stdout",
     "output_type": "stream",
     "text": [
      "Loss:  0.149321511387825\n",
      "Accuray:  0.9427400231361389\n"
     ]
    },
    {
     "data": {
      "image/png": "[encoded data removed]",
      "text/plain": [
       "<Figure size 432x288 with 1 Axes>"
      ]
     },
     "metadata": {
      "needs_background": "light"
     },
     "output_type": "display_data"
    },
    {
     "data": {
      "image/png": "[encoded data removed]",
      "text/plain": [
       "<Figure size 432x288 with 1 Axes>"
      ]
     },
     "metadata": {
      "needs_background": "light"
     },
     "output_type": "display_data"
    }
   ],
   "source": [
    "plt.figure()\n",
    "plt.ylabel(\"Loss (training and validation)\")\n",
    "plt.xlabel(\"Training Steps\")\n",
    "plt.ylim([0,0.5])\n",
    "plt.plot(hist[\"loss\"])\n",
    "\n",
    "plt.figure()\n",
    "plt.ylabel(\"Accuracy (training and validation)\")\n",
    "plt.xlabel(\"Training Steps\")\n",
    "plt.ylim([0.7,1])\n",
    "plt.plot(hist[\"binary_accuracy\"])\n",
    "\n",
    "print(\"Loss: \", hist[\"loss\"][-1])\n",
    "print(\"Accuray: \", hist[\"binary_accuracy\"][-1])"
   ]
  },
  {
   "cell_type": "code",
   "execution_count": null,
   "metadata": {},
   "outputs": [],
   "source": [
    "#모델 저장\n",
    "model.save(\"./BadComment_Detection.h5\")"
   ]
  },
  {
   "cell_type": "code",
   "execution_count": 154,
   "metadata": {},
   "outputs": [],
   "source": [
    "def predict_pos_neg(review,model):\n",
    "    token = tokenize(review)\n",
    "    tf = term_frequency(token)\n",
    "    data = np.expand_dims(np.asarray(tf).astype('float32'), axis=0)\n",
    "    data=np.reshape(data,(-1,1,10000))\n",
    "    score = float(model.predict(data))\n",
    "    if(score > 0.5):\n",
    "        print(\"[{}]는 {:.2f}% 확률로 긍정 댓글입니다.\\n\".format(review, score * 100))\n",
    "    else:\n",
    "        print(\"[{}]는 {:.2f}% 확률로 악성 댓글입니다.\\n\".format(review, (1 - score) * 100))"
   ]
  },
  {
   "cell_type": "code",
   "execution_count": 161,
   "metadata": {},
   "outputs": [
    {
     "name": "stdout",
     "output_type": "stream",
     "text": [
      "[연기 정말 잘하는 듯?]는 82.75% 확률로 긍정 댓글입니다.\n",
      "\n",
      "[진짜 못생겼다..]는 97.48% 확률로 악성 댓글입니다.\n",
      "\n",
      "[주연 배우 신인인데 몰입감 ㅎㄷㄷ]는 99.57% 확률로 긍정 댓글입니다.\n",
      "\n",
      "[성괴네ㅋㅋ 성형괴물]는 59.88% 확률로 악성 댓글입니다.\n",
      "\n",
      "[너무 무서워 악의없는 건전한 비판도 못하겠다]는 84.14% 확률로 악성 댓글입니다.\n",
      "\n",
      "[좋은 활약 기대합니다 ^^]는 97.45% 확률로 긍정 댓글입니다.\n",
      "\n",
      "[악플 모두 신고합니다]는 88.87% 확률로 긍정 댓글입니다.\n",
      "\n"
     ]
    }
   ],
   "source": [
    "predict_pos_neg(\"연기 정말 잘하는 듯?\",model)\n",
    "predict_pos_neg(\"진짜 못생겼다..\",model)\n",
    "predict_pos_neg(\"주연 배우 신인인데 몰입감 ㅎㄷㄷ\",model)\n",
    "predict_pos_neg(\"성괴네ㅋㅋ 성형괴물\",model)\n",
    "predict_pos_neg(\"너무 무서워 악의없는 건전한 비판도 못하겠다\",model)\n",
    "predict_pos_neg(\"좋은 활약 기대합니다 ^^\",model)\n",
    "predict_pos_neg(\"악플 모두 신고합니다\",model)"
   ]
  },
  {
   "cell_type": "code",
   "execution_count": null,
   "metadata": {},
   "outputs": [],
   "source": [
    "\n"
   ]
  }
 ],
 "metadata": {
  "kernelspec": {
   "display_name": "Python 3",
   "language": "python",
   "name": "python3"
  },
  "language_info": {
   "codemirror_mode": {
    "name": "ipython",
    "version": 3
   },
   "file_extension": ".py",
   "mimetype": "text/x-python",
   "name": "python",
   "nbconvert_exporter": "python",
   "pygments_lexer": "ipython3",
   "version": "3.8.2"
  }
 },
 "nbformat": 4,
 "nbformat_minor": 2
}
